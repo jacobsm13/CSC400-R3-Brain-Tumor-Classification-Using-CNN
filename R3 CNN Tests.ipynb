{
  "nbformat": 4,
  "nbformat_minor": 0,
  "metadata": {
    "colab": {
      "name": "CNNTests.ipynb",
      "provenance": [],
      "collapsed_sections": []
    },
    "kernelspec": {
      "name": "python3",
      "display_name": "Python 3"
    },
    "language_info": {
      "name": "python"
    },
    "accelerator": "GPU"
  },
  "cells": [
    {
      "cell_type": "code",
      "metadata": {
        "colab": {
          "base_uri": "https://localhost:8080/"
        },
        "id": "ARxKpcmJS9mO",
        "outputId": "004171d9-0b8d-4287-f0bd-51e067dd59bc"
      },
      "source": [
        "# installed an older version of pytorch to stop an error message\n",
        "!pip install \"torch==1.4\" \"torchvision==0.5.0\""
      ],
      "execution_count": null,
      "outputs": [
        {
          "output_type": "stream",
          "text": [
            "Collecting torch==1.4\n",
            "\u001b[?25l  Downloading https://files.pythonhosted.org/packages/1a/3b/fa92ece1e58a6a48ec598bab327f39d69808133e5b2fb33002ca754e381e/torch-1.4.0-cp37-cp37m-manylinux1_x86_64.whl (753.4MB)\n",
            "\u001b[K     |████████████████████████████████| 753.4MB 20kB/s \n",
            "\u001b[?25hCollecting torchvision==0.5.0\n",
            "\u001b[?25l  Downloading https://files.pythonhosted.org/packages/1c/32/cb0e4c43cd717da50258887b088471568990b5a749784c465a8a1962e021/torchvision-0.5.0-cp37-cp37m-manylinux1_x86_64.whl (4.0MB)\n",
            "\u001b[K     |████████████████████████████████| 4.0MB 42.2MB/s \n",
            "\u001b[?25hRequirement already satisfied: six in /usr/local/lib/python3.7/dist-packages (from torchvision==0.5.0) (1.15.0)\n",
            "Requirement already satisfied: numpy in /usr/local/lib/python3.7/dist-packages (from torchvision==0.5.0) (1.19.5)\n",
            "Requirement already satisfied: pillow>=4.1.1 in /usr/local/lib/python3.7/dist-packages (from torchvision==0.5.0) (7.1.2)\n",
            "\u001b[31mERROR: torchtext 0.9.1 has requirement torch==1.8.1, but you'll have torch 1.4.0 which is incompatible.\u001b[0m\n",
            "Installing collected packages: torch, torchvision\n",
            "  Found existing installation: torch 1.8.1+cu101\n",
            "    Uninstalling torch-1.8.1+cu101:\n",
            "      Successfully uninstalled torch-1.8.1+cu101\n",
            "  Found existing installation: torchvision 0.9.1+cu101\n",
            "    Uninstalling torchvision-0.9.1+cu101:\n",
            "      Successfully uninstalled torchvision-0.9.1+cu101\n",
            "Successfully installed torch-1.4.0 torchvision-0.5.0\n"
          ],
          "name": "stdout"
        }
      ]
    },
    {
      "cell_type": "code",
      "metadata": {
        "colab": {
          "base_uri": "https://localhost:8080/"
        },
        "id": "pmTFN-2cTNNj",
        "outputId": "003d2a0c-6720-4a26-aa8f-3f8664e7e74d"
      },
      "source": [
        "from google.colab import drive\n",
        "drive.mount('/content/drive')"
      ],
      "execution_count": null,
      "outputs": [
        {
          "output_type": "stream",
          "text": [
            "Mounted at /content/drive\n"
          ],
          "name": "stdout"
        }
      ]
    },
    {
      "cell_type": "code",
      "metadata": {
        "id": "i3bfd25UJkSh"
      },
      "source": [
        "# IMPORTS\n",
        "import fastai\n",
        "import torch\n",
        "import torchvision\n",
        "from fastai.vision import *\n",
        "from fastai.callbacks import *\n",
        "import numpy as np\n",
        "import matplotlib.pyplot as plt"
      ],
      "execution_count": null,
      "outputs": []
    },
    {
      "cell_type": "code",
      "metadata": {
        "id": "pG7SNPdMJmHI"
      },
      "source": [
        "%reload_ext autoreload\n",
        "%autoreload 2\n",
        "%matplotlib inline"
      ],
      "execution_count": null,
      "outputs": []
    },
    {
      "cell_type": "code",
      "metadata": {
        "colab": {
          "base_uri": "https://localhost:8080/"
        },
        "id": "vNbSQMIqKNlk",
        "outputId": "ab94eca8-0455-45cb-a51a-7d8663c3cdac"
      },
      "source": [
        "bs = 32\n",
        "ds_tfms = get_transforms()\n",
        "\n",
        "# IMPORTING THE DATASET\n",
        "data = (ImageList.from_folder('/content/drive/My Drive/CSC400/Train and Test Split Data/')  \n",
        "        .split_by_folder(train='train', valid='val')         # splitting the data\n",
        "        .label_from_folder()                                # data is labelled based on the folder name\n",
        "        .transform(tfms=get_transforms(), size=(128,128))   # resize images here\n",
        "        .databunch(bs=bs))\n",
        "\n",
        "data"
      ],
      "execution_count": null,
      "outputs": [
        {
          "output_type": "execute_result",
          "data": {
            "text/plain": [
              "ImageDataBunch;\n",
              "\n",
              "Train: LabelList (5126 items)\n",
              "x: ImageList\n",
              "Image (3, 128, 128),Image (3, 128, 128),Image (3, 128, 128),Image (3, 128, 128),Image (3, 128, 128)\n",
              "y: CategoryList\n",
              "glioma,glioma,glioma,glioma,glioma\n",
              "Path: /content/drive/My Drive/CSC400/Train and Test Split Data;\n",
              "\n",
              "Valid: LabelList (1708 items)\n",
              "x: ImageList\n",
              "Image (3, 128, 128),Image (3, 128, 128),Image (3, 128, 128),Image (3, 128, 128),Image (3, 128, 128)\n",
              "y: CategoryList\n",
              "glioma,glioma,glioma,glioma,glioma\n",
              "Path: /content/drive/My Drive/CSC400/Train and Test Split Data;\n",
              "\n",
              "Test: None"
            ]
          },
          "metadata": {
            "tags": []
          },
          "execution_count": 5
        }
      ]
    },
    {
      "cell_type": "code",
      "metadata": {
        "colab": {
          "base_uri": "https://localhost:8080/"
        },
        "id": "ZD-NZh22J_E0",
        "outputId": "7be43e32-41d9-4cb7-ef90-f6e26e24015a"
      },
      "source": [
        "data_test = (ImageList.from_folder('/content/drive/My Drive/CSC400/Train and Test Split Data/')\n",
        "            .split_by_folder(train='train', valid='test')\n",
        "            .label_from_folder()\n",
        "            .transform(tfms=get_transforms(), size=(128,128))\n",
        "            .databunch(bs=bs))\n",
        "data_test"
      ],
      "execution_count": null,
      "outputs": [
        {
          "output_type": "execute_result",
          "data": {
            "text/plain": [
              "ImageDataBunch;\n",
              "\n",
              "Train: LabelList (5126 items)\n",
              "x: ImageList\n",
              "Image (3, 128, 128),Image (3, 128, 128),Image (3, 128, 128),Image (3, 128, 128),Image (3, 128, 128)\n",
              "y: CategoryList\n",
              "glioma,glioma,glioma,glioma,glioma\n",
              "Path: /content/drive/My Drive/CSC400/Train and Test Split Data;\n",
              "\n",
              "Valid: LabelList (1710 items)\n",
              "x: ImageList\n",
              "Image (3, 128, 128),Image (3, 128, 128),Image (3, 128, 128),Image (3, 128, 128),Image (3, 128, 128)\n",
              "y: CategoryList\n",
              "glioma,glioma,glioma,glioma,glioma\n",
              "Path: /content/drive/My Drive/CSC400/Train and Test Split Data;\n",
              "\n",
              "Test: None"
            ]
          },
          "metadata": {
            "tags": []
          },
          "execution_count": 6
        }
      ]
    },
    {
      "cell_type": "code",
      "metadata": {
        "colab": {
          "base_uri": "https://localhost:8080/"
        },
        "id": "k8l1g2IXT58D",
        "outputId": "189ecadf-9777-430e-e6ff-b0301a620cc0"
      },
      "source": [
        "print(data.classes)"
      ],
      "execution_count": null,
      "outputs": [
        {
          "output_type": "stream",
          "text": [
            "['glioma', 'meningioma', 'pituitary']\n"
          ],
          "name": "stdout"
        }
      ]
    },
    {
      "cell_type": "code",
      "metadata": {
        "id": "HD-73JpP08TC"
      },
      "source": [
        "class BT_CNN(nn.Module):\n",
        "    def __init__(self):\n",
        "        super().__init__()\n",
        "\n",
        "        self.conv1 = nn.Conv2d(3, 8, 3, stride=1)     # input size: bs x 3x512x512       output size: bs x 16x255x255\n",
        "        #maxpool                                                                         # output size: bs x 16x127x127                                     \n",
        "        self.conv2 = nn.Conv2d(8, 16, 3, stride=1)   # input size: bs x 16x127x127       output size: bs x 32x63x63\n",
        "        #maxpool                                      # output size: bs x 32x30x30\n",
        "        self.conv3 = nn.Conv2d(16, 32, 3)      # input size: bs x 32x30x30      output size: bs x 64x28x28\n",
        "        #maxpool                                      # output size: bs x 64x14x14\n",
        "        self.conv4 = nn.Conv2d(32, 64, 3)     # input size: bs x 64x14x14       output size: bs x 128x12x12\n",
        "        self.conv5 = nn.Conv2d(64, 128, 3)  # input size: bs x \n",
        "        self.maxpool = nn.MaxPool2d(2, 2)   #                                   output size: bs x 128x6x6\n",
        "        self.lin1 = nn.Linear(128*2*2, 256, bias=True) # input size: bs x 192x31x31    output size: 1000\n",
        "        self.dropout = nn.Dropout(p=0.5)\n",
        "        self.lin2 = nn.Linear(256, 3, bias=True)\n",
        "\n",
        "    def forward(self, x):\n",
        "        x = self.maxpool(F.relu(self.conv1(x)))\n",
        "        #x = self.bnorm1(x)\n",
        "        x = self.maxpool(F.relu(self.conv2(x)))\n",
        "        #x = self.bnorm2(x)\n",
        "        x = self.maxpool(F.relu(self.conv3(x)))\n",
        "        #x = self.bnorm3(x)\n",
        "        x = self.maxpool(F.relu(self.conv4(x)))\n",
        "        #x = self.bnorm4(x)\n",
        "        x = self.maxpool(F.relu(self.conv5(x)))\n",
        "        x = x.view(-1, self.lin1.in_features)   # reshapes the tensor to appropriate dimensions\n",
        "        x = F.relu(self.lin1(x))\n",
        "        x = self.dropout(x)\n",
        "        return self.lin2(x)"
      ],
      "execution_count": null,
      "outputs": []
    },
    {
      "cell_type": "code",
      "metadata": {
        "colab": {
          "base_uri": "https://localhost:8080/"
        },
        "id": "dU2UThUeKGkk",
        "outputId": "805159da-f118-4e9c-9b51-de4b2fc17c69"
      },
      "source": [
        "print(BT_CNN())"
      ],
      "execution_count": null,
      "outputs": [
        {
          "output_type": "stream",
          "text": [
            "BT_CNN(\n",
            "  (conv1): Conv2d(3, 32, kernel_size=(3, 3), stride=(1, 1))\n",
            "  (conv2): Conv2d(32, 64, kernel_size=(3, 3), stride=(1, 1))\n",
            "  (conv3): Conv2d(64, 128, kernel_size=(3, 3), stride=(1, 1))\n",
            "  (maxpool): MaxPool2d(kernel_size=2, stride=2, padding=0, dilation=1, ceil_mode=False)\n",
            "  (lin1): Linear(in_features=115200, out_features=1800, bias=True)\n",
            "  (dropout): Dropout(p=0.5, inplace=False)\n",
            "  (lin2): Linear(in_features=1800, out_features=3, bias=True)\n",
            ")\n"
          ],
          "name": "stdout"
        }
      ]
    },
    {
      "cell_type": "code",
      "metadata": {
        "id": "r3Qux-5y1EBy"
      },
      "source": [
        "learner = Learner(data=data, model=BT_CNN(), loss_func=nn.CrossEntropyLoss(), metrics=[accuracy, error_rate, Precision(), Recall()], callback_fns=[CSVLogger])"
      ],
      "execution_count": null,
      "outputs": []
    },
    {
      "cell_type": "code",
      "metadata": {
        "colab": {
          "base_uri": "https://localhost:8080/",
          "height": 376
        },
        "id": "p8IVQfGa3NOU",
        "outputId": "676eb5cd-0638-4ebc-8dd1-44bb305f0c8d"
      },
      "source": [
        "learner.lr_find()\n",
        "learner.recorder.plot()"
      ],
      "execution_count": null,
      "outputs": [
        {
          "output_type": "display_data",
          "data": {
            "text/html": [
              "\n",
              "    <div>\n",
              "        <style>\n",
              "            /* Turns off some styling */\n",
              "            progress {\n",
              "                /* gets rid of default border in Firefox and Opera. */\n",
              "                border: none;\n",
              "                /* Needs to be in here for Safari polyfill so background images work as expected. */\n",
              "                background-size: auto;\n",
              "            }\n",
              "            .progress-bar-interrupted, .progress-bar-interrupted::-webkit-progress-bar {\n",
              "                background: #F44336;\n",
              "            }\n",
              "        </style>\n",
              "      <progress value='0' class='' max='1' style='width:300px; height:20px; vertical-align: middle;'></progress>\n",
              "      0.00% [0/1 00:00<00:00]\n",
              "    </div>\n",
              "    \n",
              "<table border=\"1\" class=\"dataframe\">\n",
              "  <thead>\n",
              "    <tr style=\"text-align: left;\">\n",
              "      <th>epoch</th>\n",
              "      <th>train_loss</th>\n",
              "      <th>valid_loss</th>\n",
              "      <th>accuracy</th>\n",
              "      <th>error_rate</th>\n",
              "      <th>precision</th>\n",
              "      <th>recall</th>\n",
              "      <th>time</th>\n",
              "    </tr>\n",
              "  </thead>\n",
              "  <tbody>\n",
              "  </tbody>\n",
              "</table><p>\n",
              "\n",
              "    <div>\n",
              "        <style>\n",
              "            /* Turns off some styling */\n",
              "            progress {\n",
              "                /* gets rid of default border in Firefox and Opera. */\n",
              "                border: none;\n",
              "                /* Needs to be in here for Safari polyfill so background images work as expected. */\n",
              "                background-size: auto;\n",
              "            }\n",
              "            .progress-bar-interrupted, .progress-bar-interrupted::-webkit-progress-bar {\n",
              "                background: #F44336;\n",
              "            }\n",
              "        </style>\n",
              "      <progress value='99' class='' max='160' style='width:300px; height:20px; vertical-align: middle;'></progress>\n",
              "      61.88% [99/160 00:30<00:18 1.1412]\n",
              "    </div>\n",
              "    "
            ],
            "text/plain": [
              "<IPython.core.display.HTML object>"
            ]
          },
          "metadata": {
            "tags": []
          }
        },
        {
          "output_type": "stream",
          "text": [
            "LR Finder is complete, type {learner_name}.recorder.plot() to see the graph.\n"
          ],
          "name": "stdout"
        },
        {
          "output_type": "display_data",
          "data": {
            "image/png": "[encoded data removed]",
            "text/plain": [
              "<Figure size 432x288 with 1 Axes>"
            ]
          },
          "metadata": {
            "tags": [],
            "needs_background": "light"
          }
        }
      ]
    },
    {
      "cell_type": "code",
      "metadata": {
        "colab": {
          "base_uri": "https://localhost:8080/",
          "height": 870
        },
        "id": "xVvUSl54VYQ0",
        "outputId": "b78e0d4e-9462-4d51-e752-a3e923486eb7"
      },
      "source": [
        "learner.fit_one_cycle(25, 1e-3)"
      ],
      "execution_count": null,
      "outputs": [
        {
          "output_type": "display_data",
          "data": {
            "text/html": [
              "<table border=\"1\" class=\"dataframe\">\n",
              "  <thead>\n",
              "    <tr style=\"text-align: left;\">\n",
              "      <th>epoch</th>\n",
              "      <th>train_loss</th>\n",
              "      <th>valid_loss</th>\n",
              "      <th>accuracy</th>\n",
              "      <th>error_rate</th>\n",
              "      <th>precision</th>\n",
              "      <th>recall</th>\n",
              "      <th>time</th>\n",
              "    </tr>\n",
              "  </thead>\n",
              "  <tbody>\n",
              "    <tr>\n",
              "      <td>0</td>\n",
              "      <td>1.098500</td>\n",
              "      <td>1.098542</td>\n",
              "      <td>0.331382</td>\n",
              "      <td>0.668618</td>\n",
              "      <td>nan</td>\n",
              "      <td>0.333333</td>\n",
              "      <td>01:02</td>\n",
              "    </tr>\n",
              "    <tr>\n",
              "      <td>1</td>\n",
              "      <td>1.058459</td>\n",
              "      <td>0.945556</td>\n",
              "      <td>0.549180</td>\n",
              "      <td>0.450820</td>\n",
              "      <td>0.664305</td>\n",
              "      <td>0.547895</td>\n",
              "      <td>01:02</td>\n",
              "    </tr>\n",
              "    <tr>\n",
              "      <td>2</td>\n",
              "      <td>0.838741</td>\n",
              "      <td>0.718625</td>\n",
              "      <td>0.708431</td>\n",
              "      <td>0.291569</td>\n",
              "      <td>0.727685</td>\n",
              "      <td>0.707800</td>\n",
              "      <td>01:02</td>\n",
              "    </tr>\n",
              "    <tr>\n",
              "      <td>3</td>\n",
              "      <td>0.802197</td>\n",
              "      <td>0.661461</td>\n",
              "      <td>0.707845</td>\n",
              "      <td>0.292155</td>\n",
              "      <td>0.710618</td>\n",
              "      <td>0.707291</td>\n",
              "      <td>01:02</td>\n",
              "    </tr>\n",
              "    <tr>\n",
              "      <td>4</td>\n",
              "      <td>0.779162</td>\n",
              "      <td>0.671719</td>\n",
              "      <td>0.717213</td>\n",
              "      <td>0.282787</td>\n",
              "      <td>0.729362</td>\n",
              "      <td>0.716700</td>\n",
              "      <td>01:02</td>\n",
              "    </tr>\n",
              "    <tr>\n",
              "      <td>5</td>\n",
              "      <td>0.731189</td>\n",
              "      <td>0.606140</td>\n",
              "      <td>0.733021</td>\n",
              "      <td>0.266979</td>\n",
              "      <td>0.736839</td>\n",
              "      <td>0.732419</td>\n",
              "      <td>01:01</td>\n",
              "    </tr>\n",
              "    <tr>\n",
              "      <td>6</td>\n",
              "      <td>0.710507</td>\n",
              "      <td>0.605332</td>\n",
              "      <td>0.745316</td>\n",
              "      <td>0.254684</td>\n",
              "      <td>0.759959</td>\n",
              "      <td>0.744686</td>\n",
              "      <td>01:00</td>\n",
              "    </tr>\n",
              "    <tr>\n",
              "      <td>7</td>\n",
              "      <td>0.671226</td>\n",
              "      <td>0.512599</td>\n",
              "      <td>0.778689</td>\n",
              "      <td>0.221311</td>\n",
              "      <td>0.775909</td>\n",
              "      <td>0.778194</td>\n",
              "      <td>01:01</td>\n",
              "    </tr>\n",
              "    <tr>\n",
              "      <td>8</td>\n",
              "      <td>0.661114</td>\n",
              "      <td>0.494152</td>\n",
              "      <td>0.793911</td>\n",
              "      <td>0.206089</td>\n",
              "      <td>0.792242</td>\n",
              "      <td>0.793447</td>\n",
              "      <td>01:01</td>\n",
              "    </tr>\n",
              "    <tr>\n",
              "      <td>9</td>\n",
              "      <td>0.568841</td>\n",
              "      <td>0.507695</td>\n",
              "      <td>0.792155</td>\n",
              "      <td>0.207845</td>\n",
              "      <td>0.810819</td>\n",
              "      <td>0.792294</td>\n",
              "      <td>01:01</td>\n",
              "    </tr>\n",
              "    <tr>\n",
              "      <td>10</td>\n",
              "      <td>0.550579</td>\n",
              "      <td>0.401019</td>\n",
              "      <td>0.829040</td>\n",
              "      <td>0.170960</td>\n",
              "      <td>0.828212</td>\n",
              "      <td>0.828827</td>\n",
              "      <td>01:02</td>\n",
              "    </tr>\n",
              "    <tr>\n",
              "      <td>11</td>\n",
              "      <td>0.514687</td>\n",
              "      <td>0.448841</td>\n",
              "      <td>0.817916</td>\n",
              "      <td>0.182084</td>\n",
              "      <td>0.838354</td>\n",
              "      <td>0.817492</td>\n",
              "      <td>01:03</td>\n",
              "    </tr>\n",
              "    <tr>\n",
              "      <td>12</td>\n",
              "      <td>0.479245</td>\n",
              "      <td>0.340297</td>\n",
              "      <td>0.857143</td>\n",
              "      <td>0.142857</td>\n",
              "      <td>0.863384</td>\n",
              "      <td>0.856693</td>\n",
              "      <td>01:02</td>\n",
              "    </tr>\n",
              "    <tr>\n",
              "      <td>13</td>\n",
              "      <td>0.454732</td>\n",
              "      <td>0.316620</td>\n",
              "      <td>0.885831</td>\n",
              "      <td>0.114169</td>\n",
              "      <td>0.885955</td>\n",
              "      <td>0.885700</td>\n",
              "      <td>01:02</td>\n",
              "    </tr>\n",
              "    <tr>\n",
              "      <td>14</td>\n",
              "      <td>0.401357</td>\n",
              "      <td>0.343301</td>\n",
              "      <td>0.860656</td>\n",
              "      <td>0.139344</td>\n",
              "      <td>0.877076</td>\n",
              "      <td>0.860678</td>\n",
              "      <td>01:01</td>\n",
              "    </tr>\n",
              "    <tr>\n",
              "      <td>15</td>\n",
              "      <td>0.372485</td>\n",
              "      <td>0.298190</td>\n",
              "      <td>0.887002</td>\n",
              "      <td>0.112998</td>\n",
              "      <td>0.893212</td>\n",
              "      <td>0.887065</td>\n",
              "      <td>01:01</td>\n",
              "    </tr>\n",
              "    <tr>\n",
              "      <td>16</td>\n",
              "      <td>0.366793</td>\n",
              "      <td>0.274894</td>\n",
              "      <td>0.891101</td>\n",
              "      <td>0.108899</td>\n",
              "      <td>0.893114</td>\n",
              "      <td>0.890927</td>\n",
              "      <td>01:01</td>\n",
              "    </tr>\n",
              "    <tr>\n",
              "      <td>17</td>\n",
              "      <td>0.308664</td>\n",
              "      <td>0.231144</td>\n",
              "      <td>0.912763</td>\n",
              "      <td>0.087237</td>\n",
              "      <td>0.914464</td>\n",
              "      <td>0.912714</td>\n",
              "      <td>01:02</td>\n",
              "    </tr>\n",
              "    <tr>\n",
              "      <td>18</td>\n",
              "      <td>0.295777</td>\n",
              "      <td>0.230133</td>\n",
              "      <td>0.904567</td>\n",
              "      <td>0.095433</td>\n",
              "      <td>0.904729</td>\n",
              "      <td>0.904339</td>\n",
              "      <td>01:03</td>\n",
              "    </tr>\n",
              "    <tr>\n",
              "      <td>19</td>\n",
              "      <td>0.295011</td>\n",
              "      <td>0.220595</td>\n",
              "      <td>0.913934</td>\n",
              "      <td>0.086066</td>\n",
              "      <td>0.914205</td>\n",
              "      <td>0.913716</td>\n",
              "      <td>01:02</td>\n",
              "    </tr>\n",
              "    <tr>\n",
              "      <td>20</td>\n",
              "      <td>0.260881</td>\n",
              "      <td>0.205585</td>\n",
              "      <td>0.920960</td>\n",
              "      <td>0.079040</td>\n",
              "      <td>0.921202</td>\n",
              "      <td>0.920866</td>\n",
              "      <td>01:02</td>\n",
              "    </tr>\n",
              "    <tr>\n",
              "      <td>21</td>\n",
              "      <td>0.269870</td>\n",
              "      <td>0.204322</td>\n",
              "      <td>0.919204</td>\n",
              "      <td>0.080796</td>\n",
              "      <td>0.919210</td>\n",
              "      <td>0.919106</td>\n",
              "      <td>01:02</td>\n",
              "    </tr>\n",
              "    <tr>\n",
              "      <td>22</td>\n",
              "      <td>0.264281</td>\n",
              "      <td>0.202128</td>\n",
              "      <td>0.920960</td>\n",
              "      <td>0.079040</td>\n",
              "      <td>0.921101</td>\n",
              "      <td>0.920895</td>\n",
              "      <td>01:02</td>\n",
              "    </tr>\n",
              "    <tr>\n",
              "      <td>23</td>\n",
              "      <td>0.256962</td>\n",
              "      <td>0.197866</td>\n",
              "      <td>0.923888</td>\n",
              "      <td>0.076112</td>\n",
              "      <td>0.923704</td>\n",
              "      <td>0.923788</td>\n",
              "      <td>01:02</td>\n",
              "    </tr>\n",
              "    <tr>\n",
              "      <td>24</td>\n",
              "      <td>0.259301</td>\n",
              "      <td>0.197674</td>\n",
              "      <td>0.924473</td>\n",
              "      <td>0.075527</td>\n",
              "      <td>0.924363</td>\n",
              "      <td>0.924387</td>\n",
              "      <td>01:02</td>\n",
              "    </tr>\n",
              "  </tbody>\n",
              "</table>"
            ],
            "text/plain": [
              "<IPython.core.display.HTML object>"
            ]
          },
          "metadata": {
            "tags": []
          }
        },
        {
          "output_type": "stream",
          "text": [
            "/usr/local/lib/python3.7/dist-packages/fastai/metrics.py:191: UserWarning: average=`binary` was selected for a non binary case. Value for average has now been set to `macro` instead.\n",
            "  warn(\"average=`binary` was selected for a non binary case. Value for average has now been set to `macro` instead.\")\n"
          ],
          "name": "stderr"
        }
      ]
    },
    {
      "cell_type": "code",
      "metadata": {
        "id": "RrDHjUYObt8u"
      },
      "source": [
        "#learner.export()"
      ],
      "execution_count": null,
      "outputs": []
    },
    {
      "cell_type": "code",
      "metadata": {
        "id": "gaOU0dRhFBfx"
      },
      "source": [
        "#res = learner.csv_logger.read_logged_file()\n",
        "#results = res.to_numpy()"
      ],
      "execution_count": null,
      "outputs": []
    },
    {
      "cell_type": "code",
      "metadata": {
        "id": "1P-ZU7EH3UAS",
        "colab": {
          "base_uri": "https://localhost:8080/",
          "height": 279
        },
        "outputId": "3fe0b7f7-fa15-4ada-8ff1-70679aea3d30"
      },
      "source": [
        "learner.recorder.plot_losses()\n",
        "plt.savefig('/content/drive/My Drive/CSC400/5Conv_2Lin_128_input_Loss_Curve.png')"
      ],
      "execution_count": null,
      "outputs": [
        {
          "output_type": "display_data",
          "data": {
            "image/png": "[encoded data removed]",
            "text/plain": [
              "<Figure size 432x288 with 1 Axes>"
            ]
          },
          "metadata": {
            "tags": [],
            "needs_background": "light"
          }
        }
      ]
    },
    {
      "cell_type": "code",
      "metadata": {
        "id": "y5xId7qbrnUa",
        "colab": {
          "base_uri": "https://localhost:8080/",
          "height": 932
        },
        "outputId": "ea95d06a-92e7-49a8-b780-074a93d76c28"
      },
      "source": [
        "learner.recorder.plot_metrics()"
      ],
      "execution_count": null,
      "outputs": [
        {
          "output_type": "display_data",
          "data": {
            "image/png": "[encoded data removed]",
            "text/plain": [
              "<Figure size 432x1152 with 4 Axes>"
            ]
          },
          "metadata": {
            "tags": [],
            "needs_background": "light"
          }
        }
      ]
    },
    {
      "cell_type": "code",
      "metadata": {
        "colab": {
          "base_uri": "https://localhost:8080/",
          "height": 17
        },
        "id": "RqGmKIZP3XZZ",
        "outputId": "21305041-b95f-43af-cd76-af22bd8a1d67"
      },
      "source": [
        "preds,y,losses = learner.get_preds(with_loss=True)\n",
        "interp = ClassificationInterpretation(learner, preds, y, losses)"
      ],
      "execution_count": null,
      "outputs": [
        {
          "output_type": "display_data",
          "data": {
            "text/html": [
              ""
            ],
            "text/plain": [
              "<IPython.core.display.HTML object>"
            ]
          },
          "metadata": {
            "tags": []
          }
        }
      ]
    },
    {
      "cell_type": "code",
      "metadata": {
        "id": "j_ypFhzQ3czx",
        "colab": {
          "base_uri": "https://localhost:8080/",
          "height": 311
        },
        "outputId": "1e16a6f4-e3fe-4a54-f7d5-26d9e46a9c6c"
      },
      "source": [
        "interp.plot_confusion_matrix()\n",
        "plt.savefig('/content/drive/My Drive/CSC400/5Conv_2Lin_128_input_CF.png')"
      ],
      "execution_count": null,
      "outputs": [
        {
          "output_type": "display_data",
          "data": {
            "image/png": "[encoded data removed]",
            "text/plain": [
              "<Figure size 432x288 with 1 Axes>"
            ]
          },
          "metadata": {
            "tags": [],
            "needs_background": "light"
          }
        }
      ]
    },
    {
      "cell_type": "code",
      "metadata": {
        "colab": {
          "base_uri": "https://localhost:8080/"
        },
        "id": "zRCSThaY3gQZ",
        "outputId": "21eef15c-c537-4271-debd-4007f8409d72"
      },
      "source": [
        "for i,c in enumerate(data.classes):\n",
        "    print(f\"Class {c} ({i}) accuracy: {round(sum(np.argmax(preds[y==i], axis = 1) == y[y==i]).numpy()/len(y[y==i]), 4)}\")"
      ],
      "execution_count": null,
      "outputs": [
        {
          "output_type": "stream",
          "text": [
            "Class glioma (0) accuracy: 0.9211\n",
            "Class meningioma (1) accuracy: 0.9011\n",
            "Class pituitary (2) accuracy: 0.951\n"
          ],
          "name": "stdout"
        }
      ]
    },
    {
      "cell_type": "markdown",
      "metadata": {
        "id": "bjaqhtXfSt8r"
      },
      "source": [
        "Evaluating Model on Test Set"
      ]
    },
    {
      "cell_type": "code",
      "metadata": {
        "colab": {
          "base_uri": "https://localhost:8080/",
          "height": 54
        },
        "id": "6dizbmgzQV0g",
        "outputId": "9164e3ea-adc3-4291-f0fb-7a0863cafb3a"
      },
      "source": [
        "loss, accuracy, precision, recall = learner.validate(data_test.valid_dl, metrics=[accuracy, Precision(), Recall()])"
      ],
      "execution_count": null,
      "outputs": [
        {
          "output_type": "display_data",
          "data": {
            "text/html": [
              ""
            ],
            "text/plain": [
              "<IPython.core.display.HTML object>"
            ]
          },
          "metadata": {
            "tags": []
          }
        },
        {
          "output_type": "stream",
          "text": [
            "/usr/local/lib/python3.7/dist-packages/fastai/metrics.py:191: UserWarning: average=`binary` was selected for a non binary case. Value for average has now been set to `macro` instead.\n",
            "  warn(\"average=`binary` was selected for a non binary case. Value for average has now been set to `macro` instead.\")\n"
          ],
          "name": "stderr"
        }
      ]
    },
    {
      "cell_type": "code",
      "metadata": {
        "colab": {
          "base_uri": "https://localhost:8080/"
        },
        "id": "Lc0HeoVMPnOe",
        "outputId": "fbe0a54f-1696-4c7c-9ca7-9a4534b2fe91"
      },
      "source": [
        "print(accuracy)\n",
        "print(precision)\n",
        "print(recall)\n",
        "print(loss)"
      ],
      "execution_count": null,
      "outputs": [
        {
          "output_type": "stream",
          "text": [
            "tensor(0.9298)\n",
            "tensor(0.9296)\n",
            "tensor(0.9297)\n",
            "0.17788824\n"
          ],
          "name": "stdout"
        }
      ]
    },
    {
      "cell_type": "code",
      "metadata": {
        "id": "3WaRV41zSUzG"
      },
      "source": [
        "learner.data = data_test"
      ],
      "execution_count": null,
      "outputs": []
    },
    {
      "cell_type": "code",
      "metadata": {
        "colab": {
          "base_uri": "https://localhost:8080/",
          "height": 17
        },
        "id": "xWkMGx8GSYNg",
        "outputId": "ff6e1a75-367c-4635-e064-ce68e612c15f"
      },
      "source": [
        "preds,y,losses = learner.get_preds(with_loss=True)\n",
        "interp = ClassificationInterpretation(learner, preds, y, losses)"
      ],
      "execution_count": null,
      "outputs": [
        {
          "output_type": "display_data",
          "data": {
            "text/html": [
              ""
            ],
            "text/plain": [
              "<IPython.core.display.HTML object>"
            ]
          },
          "metadata": {
            "tags": []
          }
        }
      ]
    },
    {
      "cell_type": "code",
      "metadata": {
        "colab": {
          "base_uri": "https://localhost:8080/",
          "height": 311
        },
        "id": "G-NydAKmSg9-",
        "outputId": "94ca9b58-681a-4957-a5c3-517c4f537ad8"
      },
      "source": [
        "interp.plot_confusion_matrix()\n",
        "plt.savefig('/content/drive/My Drive/CSC400/5Conv_2Lin_128_input_Test_CF.png')"
      ],
      "execution_count": null,
      "outputs": [
        {
          "output_type": "display_data",
          "data": {
            "image/png": "[encoded data removed]",
            "text/plain": [
              "<Figure size 432x288 with 1 Axes>"
            ]
          },
          "metadata": {
            "tags": [],
            "needs_background": "light"
          }
        }
      ]
    },
    {
      "cell_type": "code",
      "metadata": {
        "colab": {
          "base_uri": "https://localhost:8080/"
        },
        "id": "AZ3m3gxGSoVz",
        "outputId": "14ab861d-3956-454e-f6e8-b2fb013f9304"
      },
      "source": [
        "for i,c in enumerate(data.classes):\n",
        "    print(f\"Class {c} ({i}) accuracy: {round(sum(np.argmax(preds[y==i], axis = 1) == y[y==i]).numpy()/len(y[y==i]), 4)}\")"
      ],
      "execution_count": null,
      "outputs": [
        {
          "output_type": "stream",
          "text": [
            "Class glioma (0) accuracy: 0.9247\n",
            "Class meningioma (1) accuracy: 0.903\n",
            "Class pituitary (2) accuracy: 0.9615\n"
          ],
          "name": "stdout"
        }
      ]
    }
  ]
}